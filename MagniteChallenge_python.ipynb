{
  "nbformat": 4,
  "nbformat_minor": 0,
  "metadata": {
    "colab": {
      "provenance": []
    },
    "kernelspec": {
      "name": "python3",
      "display_name": "Python 3"
    },
    "language_info": {
      "name": "python"
    }
  },
  "cells": [
    {
      "cell_type": "code",
      "execution_count": 27,
      "metadata": {
        "colab": {
          "base_uri": "https://localhost:8080/"
        },
        "id": "TM7uYT-NDgdK",
        "outputId": "34f84c5f-d78f-4817-e744-57428b18eb08"
      },
      "outputs": [
        {
          "output_type": "stream",
          "name": "stdout",
          "text": [
            "Drive already mounted at /content/drive; to attempt to forcibly remount, call drive.mount(\"/content/drive\", force_remount=True).\n"
          ]
        }
      ],
      "source": [
        "from google.colab import drive\n",
        "drive.mount('/content/drive')"
      ]
    },
    {
      "cell_type": "markdown",
      "source": [
        "## Load data with pandas"
      ],
      "metadata": {
        "id": "TSfRyrZwxDzJ"
      }
    },
    {
      "cell_type": "code",
      "source": [
        "import pandas as pd\n",
        "import numpy as np\n",
        "\n",
        "data = pd.read_csv('/content/drive/MyDrive/Colab/Magnite/Dataset.csv')\n",
        "data.head()"
      ],
      "metadata": {
        "colab": {
          "base_uri": "https://localhost:8080/",
          "height": 400
        },
        "id": "jm1fEWs9DtpM",
        "outputId": "9d521d8f-88c5-493f-fa76-7ad0124a845c"
      },
      "execution_count": 28,
      "outputs": [
        {
          "output_type": "execute_result",
          "data": {
            "text/plain": [
              "                  date  site_id  ad_type_id  geo_id  device_category_id  \\\n",
              "0  2019-06-30 00:00:00      351          10     187                   2   \n",
              "1  2019-06-30 00:00:00      351          10     187                   2   \n",
              "2  2019-06-30 00:00:00      351          10     147                   2   \n",
              "3  2019-06-30 00:00:00      351          10     147                   2   \n",
              "4  2019-06-30 00:00:00      348          10     147                   3   \n",
              "\n",
              "   advertiser_id  order_id  line_item_type_id  os_id  integration_type_id  \\\n",
              "0             84      3473                 19     60                    1   \n",
              "1             84      3473                 19     58                    1   \n",
              "2             84      3473                 19     60                    1   \n",
              "3             84      3473                 19     58                    1   \n",
              "4             79      3463                 20     59                    1   \n",
              "\n",
              "   monetization_channel_id  ad_unit_id  total_impressions  total_revenue  \\\n",
              "0                        4        5174                 16            0.0   \n",
              "1                        4        5174                  6            0.0   \n",
              "2                        4        5174                  4            0.0   \n",
              "3                        4        5174                  4            0.0   \n",
              "4                       19        5138                  4            0.0   \n",
              "\n",
              "   viewable_impressions  measurable_impressions  revenue_share_percent  \n",
              "0                     2                      16                      1  \n",
              "1                     0                       6                      1  \n",
              "2                     0                       4                      1  \n",
              "3                     0                       4                      1  \n",
              "4                     0                       4                      1  "
            ],
            "text/html": [
              "\n",
              "  <div id=\"df-8cb3fc1e-abb3-47c9-97a4-9017c4542440\" class=\"colab-df-container\">\n",
              "    <div>\n",
              "<style scoped>\n",
              "    .dataframe tbody tr th:only-of-type {\n",
              "        vertical-align: middle;\n",
              "    }\n",
              "\n",
              "    .dataframe tbody tr th {\n",
              "        vertical-align: top;\n",
              "    }\n",
              "\n",
              "    .dataframe thead th {\n",
              "        text-align: right;\n",
              "    }\n",
              "</style>\n",
              "<table border=\"1\" class=\"dataframe\">\n",
              "  <thead>\n",
              "    <tr style=\"text-align: right;\">\n",
              "      <th></th>\n",
              "      <th>date</th>\n",
              "      <th>site_id</th>\n",
              "      <th>ad_type_id</th>\n",
              "      <th>geo_id</th>\n",
              "      <th>device_category_id</th>\n",
              "      <th>advertiser_id</th>\n",
              "      <th>order_id</th>\n",
              "      <th>line_item_type_id</th>\n",
              "      <th>os_id</th>\n",
              "      <th>integration_type_id</th>\n",
              "      <th>monetization_channel_id</th>\n",
              "      <th>ad_unit_id</th>\n",
              "      <th>total_impressions</th>\n",
              "      <th>total_revenue</th>\n",
              "      <th>viewable_impressions</th>\n",
              "      <th>measurable_impressions</th>\n",
              "      <th>revenue_share_percent</th>\n",
              "    </tr>\n",
              "  </thead>\n",
              "  <tbody>\n",
              "    <tr>\n",
              "      <th>0</th>\n",
              "      <td>2019-06-30 00:00:00</td>\n",
              "      <td>351</td>\n",
              "      <td>10</td>\n",
              "      <td>187</td>\n",
              "      <td>2</td>\n",
              "      <td>84</td>\n",
              "      <td>3473</td>\n",
              "      <td>19</td>\n",
              "      <td>60</td>\n",
              "      <td>1</td>\n",
              "      <td>4</td>\n",
              "      <td>5174</td>\n",
              "      <td>16</td>\n",
              "      <td>0.0</td>\n",
              "      <td>2</td>\n",
              "      <td>16</td>\n",
              "      <td>1</td>\n",
              "    </tr>\n",
              "    <tr>\n",
              "      <th>1</th>\n",
              "      <td>2019-06-30 00:00:00</td>\n",
              "      <td>351</td>\n",
              "      <td>10</td>\n",
              "      <td>187</td>\n",
              "      <td>2</td>\n",
              "      <td>84</td>\n",
              "      <td>3473</td>\n",
              "      <td>19</td>\n",
              "      <td>58</td>\n",
              "      <td>1</td>\n",
              "      <td>4</td>\n",
              "      <td>5174</td>\n",
              "      <td>6</td>\n",
              "      <td>0.0</td>\n",
              "      <td>0</td>\n",
              "      <td>6</td>\n",
              "      <td>1</td>\n",
              "    </tr>\n",
              "    <tr>\n",
              "      <th>2</th>\n",
              "      <td>2019-06-30 00:00:00</td>\n",
              "      <td>351</td>\n",
              "      <td>10</td>\n",
              "      <td>147</td>\n",
              "      <td>2</td>\n",
              "      <td>84</td>\n",
              "      <td>3473</td>\n",
              "      <td>19</td>\n",
              "      <td>60</td>\n",
              "      <td>1</td>\n",
              "      <td>4</td>\n",
              "      <td>5174</td>\n",
              "      <td>4</td>\n",
              "      <td>0.0</td>\n",
              "      <td>0</td>\n",
              "      <td>4</td>\n",
              "      <td>1</td>\n",
              "    </tr>\n",
              "    <tr>\n",
              "      <th>3</th>\n",
              "      <td>2019-06-30 00:00:00</td>\n",
              "      <td>351</td>\n",
              "      <td>10</td>\n",
              "      <td>147</td>\n",
              "      <td>2</td>\n",
              "      <td>84</td>\n",
              "      <td>3473</td>\n",
              "      <td>19</td>\n",
              "      <td>58</td>\n",
              "      <td>1</td>\n",
              "      <td>4</td>\n",
              "      <td>5174</td>\n",
              "      <td>4</td>\n",
              "      <td>0.0</td>\n",
              "      <td>0</td>\n",
              "      <td>4</td>\n",
              "      <td>1</td>\n",
              "    </tr>\n",
              "    <tr>\n",
              "      <th>4</th>\n",
              "      <td>2019-06-30 00:00:00</td>\n",
              "      <td>348</td>\n",
              "      <td>10</td>\n",
              "      <td>147</td>\n",
              "      <td>3</td>\n",
              "      <td>79</td>\n",
              "      <td>3463</td>\n",
              "      <td>20</td>\n",
              "      <td>59</td>\n",
              "      <td>1</td>\n",
              "      <td>19</td>\n",
              "      <td>5138</td>\n",
              "      <td>4</td>\n",
              "      <td>0.0</td>\n",
              "      <td>0</td>\n",
              "      <td>4</td>\n",
              "      <td>1</td>\n",
              "    </tr>\n",
              "  </tbody>\n",
              "</table>\n",
              "</div>\n",
              "    <div class=\"colab-df-buttons\">\n",
              "\n",
              "  <div class=\"colab-df-container\">\n",
              "    <button class=\"colab-df-convert\" onclick=\"convertToInteractive('df-8cb3fc1e-abb3-47c9-97a4-9017c4542440')\"\n",
              "            title=\"Convert this dataframe to an interactive table.\"\n",
              "            style=\"display:none;\">\n",
              "\n",
              "  <svg xmlns=\"http://www.w3.org/2000/svg\" height=\"24px\" viewBox=\"0 -960 960 960\">\n",
              "    <path d=\"M120-120v-720h720v720H120Zm60-500h600v-160H180v160Zm220 220h160v-160H400v160Zm0 220h160v-160H400v160ZM180-400h160v-160H180v160Zm440 0h160v-160H620v160ZM180-180h160v-160H180v160Zm440 0h160v-160H620v160Z\"/>\n",
              "  </svg>\n",
              "    </button>\n",
              "\n",
              "  <style>\n",
              "    .colab-df-container {\n",
              "      display:flex;\n",
              "      gap: 12px;\n",
              "    }\n",
              "\n",
              "    .colab-df-convert {\n",
              "      background-color: #E8F0FE;\n",
              "      border: none;\n",
              "      border-radius: 50%;\n",
              "      cursor: pointer;\n",
              "      display: none;\n",
              "      fill: #1967D2;\n",
              "      height: 32px;\n",
              "      padding: 0 0 0 0;\n",
              "      width: 32px;\n",
              "    }\n",
              "\n",
              "    .colab-df-convert:hover {\n",
              "      background-color: #E2EBFA;\n",
              "      box-shadow: 0px 1px 2px rgba(60, 64, 67, 0.3), 0px 1px 3px 1px rgba(60, 64, 67, 0.15);\n",
              "      fill: #174EA6;\n",
              "    }\n",
              "\n",
              "    .colab-df-buttons div {\n",
              "      margin-bottom: 4px;\n",
              "    }\n",
              "\n",
              "    [theme=dark] .colab-df-convert {\n",
              "      background-color: #3B4455;\n",
              "      fill: #D2E3FC;\n",
              "    }\n",
              "\n",
              "    [theme=dark] .colab-df-convert:hover {\n",
              "      background-color: #434B5C;\n",
              "      box-shadow: 0px 1px 3px 1px rgba(0, 0, 0, 0.15);\n",
              "      filter: drop-shadow(0px 1px 2px rgba(0, 0, 0, 0.3));\n",
              "      fill: #FFFFFF;\n",
              "    }\n",
              "  </style>\n",
              "\n",
              "    <script>\n",
              "      const buttonEl =\n",
              "        document.querySelector('#df-8cb3fc1e-abb3-47c9-97a4-9017c4542440 button.colab-df-convert');\n",
              "      buttonEl.style.display =\n",
              "        google.colab.kernel.accessAllowed ? 'block' : 'none';\n",
              "\n",
              "      async function convertToInteractive(key) {\n",
              "        const element = document.querySelector('#df-8cb3fc1e-abb3-47c9-97a4-9017c4542440');\n",
              "        const dataTable =\n",
              "          await google.colab.kernel.invokeFunction('convertToInteractive',\n",
              "                                                    [key], {});\n",
              "        if (!dataTable) return;\n",
              "\n",
              "        const docLinkHtml = 'Like what you see? Visit the ' +\n",
              "          '<a target=\"_blank\" href=https://colab.research.google.com/notebooks/data_table.ipynb>data table notebook</a>'\n",
              "          + ' to learn more about interactive tables.';\n",
              "        element.innerHTML = '';\n",
              "        dataTable['output_type'] = 'display_data';\n",
              "        await google.colab.output.renderOutput(dataTable, element);\n",
              "        const docLink = document.createElement('div');\n",
              "        docLink.innerHTML = docLinkHtml;\n",
              "        element.appendChild(docLink);\n",
              "      }\n",
              "    </script>\n",
              "  </div>\n",
              "\n",
              "\n",
              "<div id=\"df-87f016dc-8fd7-4ebd-8833-99c59232573c\">\n",
              "  <button class=\"colab-df-quickchart\" onclick=\"quickchart('df-87f016dc-8fd7-4ebd-8833-99c59232573c')\"\n",
              "            title=\"Suggest charts\"\n",
              "            style=\"display:none;\">\n",
              "\n",
              "<svg xmlns=\"http://www.w3.org/2000/svg\" height=\"24px\"viewBox=\"0 0 24 24\"\n",
              "     width=\"24px\">\n",
              "    <g>\n",
              "        <path d=\"M19 3H5c-1.1 0-2 .9-2 2v14c0 1.1.9 2 2 2h14c1.1 0 2-.9 2-2V5c0-1.1-.9-2-2-2zM9 17H7v-7h2v7zm4 0h-2V7h2v10zm4 0h-2v-4h2v4z\"/>\n",
              "    </g>\n",
              "</svg>\n",
              "  </button>\n",
              "\n",
              "<style>\n",
              "  .colab-df-quickchart {\n",
              "      --bg-color: #E8F0FE;\n",
              "      --fill-color: #1967D2;\n",
              "      --hover-bg-color: #E2EBFA;\n",
              "      --hover-fill-color: #174EA6;\n",
              "      --disabled-fill-color: #AAA;\n",
              "      --disabled-bg-color: #DDD;\n",
              "  }\n",
              "\n",
              "  [theme=dark] .colab-df-quickchart {\n",
              "      --bg-color: #3B4455;\n",
              "      --fill-color: #D2E3FC;\n",
              "      --hover-bg-color: #434B5C;\n",
              "      --hover-fill-color: #FFFFFF;\n",
              "      --disabled-bg-color: #3B4455;\n",
              "      --disabled-fill-color: #666;\n",
              "  }\n",
              "\n",
              "  .colab-df-quickchart {\n",
              "    background-color: var(--bg-color);\n",
              "    border: none;\n",
              "    border-radius: 50%;\n",
              "    cursor: pointer;\n",
              "    display: none;\n",
              "    fill: var(--fill-color);\n",
              "    height: 32px;\n",
              "    padding: 0;\n",
              "    width: 32px;\n",
              "  }\n",
              "\n",
              "  .colab-df-quickchart:hover {\n",
              "    background-color: var(--hover-bg-color);\n",
              "    box-shadow: 0 1px 2px rgba(60, 64, 67, 0.3), 0 1px 3px 1px rgba(60, 64, 67, 0.15);\n",
              "    fill: var(--button-hover-fill-color);\n",
              "  }\n",
              "\n",
              "  .colab-df-quickchart-complete:disabled,\n",
              "  .colab-df-quickchart-complete:disabled:hover {\n",
              "    background-color: var(--disabled-bg-color);\n",
              "    fill: var(--disabled-fill-color);\n",
              "    box-shadow: none;\n",
              "  }\n",
              "\n",
              "  .colab-df-spinner {\n",
              "    border: 2px solid var(--fill-color);\n",
              "    border-color: transparent;\n",
              "    border-bottom-color: var(--fill-color);\n",
              "    animation:\n",
              "      spin 1s steps(1) infinite;\n",
              "  }\n",
              "\n",
              "  @keyframes spin {\n",
              "    0% {\n",
              "      border-color: transparent;\n",
              "      border-bottom-color: var(--fill-color);\n",
              "      border-left-color: var(--fill-color);\n",
              "    }\n",
              "    20% {\n",
              "      border-color: transparent;\n",
              "      border-left-color: var(--fill-color);\n",
              "      border-top-color: var(--fill-color);\n",
              "    }\n",
              "    30% {\n",
              "      border-color: transparent;\n",
              "      border-left-color: var(--fill-color);\n",
              "      border-top-color: var(--fill-color);\n",
              "      border-right-color: var(--fill-color);\n",
              "    }\n",
              "    40% {\n",
              "      border-color: transparent;\n",
              "      border-right-color: var(--fill-color);\n",
              "      border-top-color: var(--fill-color);\n",
              "    }\n",
              "    60% {\n",
              "      border-color: transparent;\n",
              "      border-right-color: var(--fill-color);\n",
              "    }\n",
              "    80% {\n",
              "      border-color: transparent;\n",
              "      border-right-color: var(--fill-color);\n",
              "      border-bottom-color: var(--fill-color);\n",
              "    }\n",
              "    90% {\n",
              "      border-color: transparent;\n",
              "      border-bottom-color: var(--fill-color);\n",
              "    }\n",
              "  }\n",
              "</style>\n",
              "\n",
              "  <script>\n",
              "    async function quickchart(key) {\n",
              "      const quickchartButtonEl =\n",
              "        document.querySelector('#' + key + ' button');\n",
              "      quickchartButtonEl.disabled = true;  // To prevent multiple clicks.\n",
              "      quickchartButtonEl.classList.add('colab-df-spinner');\n",
              "      try {\n",
              "        const charts = await google.colab.kernel.invokeFunction(\n",
              "            'suggestCharts', [key], {});\n",
              "      } catch (error) {\n",
              "        console.error('Error during call to suggestCharts:', error);\n",
              "      }\n",
              "      quickchartButtonEl.classList.remove('colab-df-spinner');\n",
              "      quickchartButtonEl.classList.add('colab-df-quickchart-complete');\n",
              "    }\n",
              "    (() => {\n",
              "      let quickchartButtonEl =\n",
              "        document.querySelector('#df-87f016dc-8fd7-4ebd-8833-99c59232573c button');\n",
              "      quickchartButtonEl.style.display =\n",
              "        google.colab.kernel.accessAllowed ? 'block' : 'none';\n",
              "    })();\n",
              "  </script>\n",
              "</div>\n",
              "\n",
              "    </div>\n",
              "  </div>\n"
            ]
          },
          "metadata": {},
          "execution_count": 28
        }
      ]
    },
    {
      "cell_type": "code",
      "source": [
        "data.isnull().sum()"
      ],
      "metadata": {
        "colab": {
          "base_uri": "https://localhost:8080/"
        },
        "id": "zj2BkV95wbd3",
        "outputId": "c2b64d47-d827-462c-c921-cf1aca1ed3e3"
      },
      "execution_count": 29,
      "outputs": [
        {
          "output_type": "execute_result",
          "data": {
            "text/plain": [
              "date                       0\n",
              "site_id                    0\n",
              "ad_type_id                 0\n",
              "geo_id                     0\n",
              "device_category_id         0\n",
              "advertiser_id              0\n",
              "order_id                   0\n",
              "line_item_type_id          0\n",
              "os_id                      0\n",
              "integration_type_id        0\n",
              "monetization_channel_id    0\n",
              "ad_unit_id                 0\n",
              "total_impressions          0\n",
              "total_revenue              0\n",
              "viewable_impressions       0\n",
              "measurable_impressions     0\n",
              "revenue_share_percent      0\n",
              "dtype: int64"
            ]
          },
          "metadata": {},
          "execution_count": 29
        }
      ]
    },
    {
      "cell_type": "markdown",
      "source": [
        "## Load data with pyspark"
      ],
      "metadata": {
        "id": "uUGDQeKFxHlc"
      }
    },
    {
      "cell_type": "code",
      "source": [
        "!pip install pyspark"
      ],
      "metadata": {
        "colab": {
          "base_uri": "https://localhost:8080/"
        },
        "id": "m7hmqgcH2CVV",
        "outputId": "78e11b92-a96a-4963-c636-41b8f698178b"
      },
      "execution_count": 30,
      "outputs": [
        {
          "output_type": "stream",
          "name": "stdout",
          "text": [
            "Requirement already satisfied: pyspark in /usr/local/lib/python3.10/dist-packages (3.5.0)\n",
            "Requirement already satisfied: py4j==0.10.9.7 in /usr/local/lib/python3.10/dist-packages (from pyspark) (0.10.9.7)\n"
          ]
        }
      ]
    },
    {
      "cell_type": "code",
      "source": [
        "# Import necessary libraries\n",
        "from pyspark.sql import SparkSession\n",
        "from pyspark.sql.functions import col, sum, avg\n",
        "\n",
        "# Initialize a Spark session\n",
        "spark = SparkSession.builder.appName(\"magnite\").getOrCreate()\n",
        "\n",
        "# Read the CSV file into a Spark DataFrame\n",
        "data = spark.read.csv(\"/content/drive/MyDrive/Colab/Magnite/Dataset.csv\", header=True, inferSchema=True)"
      ],
      "metadata": {
        "id": "ywA4O5QmD-fN"
      },
      "execution_count": 31,
      "outputs": []
    },
    {
      "cell_type": "code",
      "source": [
        "data.show()"
      ],
      "metadata": {
        "colab": {
          "base_uri": "https://localhost:8080/"
        },
        "id": "U0yMWQtk2tn_",
        "outputId": "09edca97-ddec-484b-b848-78d052497fff"
      },
      "execution_count": 32,
      "outputs": [
        {
          "output_type": "stream",
          "name": "stdout",
          "text": [
            "+-------------------+-------+----------+------+------------------+-------------+--------+-----------------+-----+-------------------+-----------------------+----------+-----------------+-------------+--------------------+----------------------+---------------------+\n",
            "|               date|site_id|ad_type_id|geo_id|device_category_id|advertiser_id|order_id|line_item_type_id|os_id|integration_type_id|monetization_channel_id|ad_unit_id|total_impressions|total_revenue|viewable_impressions|measurable_impressions|revenue_share_percent|\n",
            "+-------------------+-------+----------+------+------------------+-------------+--------+-----------------+-----+-------------------+-----------------------+----------+-----------------+-------------+--------------------+----------------------+---------------------+\n",
            "|2019-06-30 00:00:00|    351|        10|   187|                 2|           84|    3473|               19|   60|                  1|                      4|      5174|               16|          0.0|                   2|                    16|                    1|\n",
            "|2019-06-30 00:00:00|    351|        10|   187|                 2|           84|    3473|               19|   58|                  1|                      4|      5174|                6|          0.0|                   0|                     6|                    1|\n",
            "|2019-06-30 00:00:00|    351|        10|   147|                 2|           84|    3473|               19|   60|                  1|                      4|      5174|                4|          0.0|                   0|                     4|                    1|\n",
            "|2019-06-30 00:00:00|    351|        10|   147|                 2|           84|    3473|               19|   58|                  1|                      4|      5174|                4|          0.0|                   0|                     4|                    1|\n",
            "|2019-06-30 00:00:00|    348|        10|   147|                 3|           79|    3463|               20|   59|                  1|                     19|      5138|                4|          0.0|                   0|                     4|                    1|\n",
            "|2019-06-30 00:00:00|    348|        10|   147|                 3|           79|    3463|               20|   59|                  1|                     19|      5144|                2|          0.0|                   0|                     2|                    1|\n",
            "|2019-06-30 00:00:00|    351|        17|   191|                 1|           79|    3487|               19|   56|                  1|                     19|      5169|                2|          0.0|                   2|                     2|                    1|\n",
            "|2019-06-30 00:00:00|    351|        17|   187|                 5|           79|    3487|               19|   56|                  1|                     19|      5169|                2|          0.0|                   2|                     2|                    1|\n",
            "|2019-06-30 00:00:00|    351|        17|   187|                 3|           79|    3487|               19|   59|                  1|                     19|      5169|               80|          0.0|                  80|                    80|                    1|\n",
            "|2019-06-30 00:00:00|    351|        17|   187|                 3|           79|    3487|               19|   55|                  1|                     19|      5169|               92|          0.0|                  92|                    92|                    1|\n",
            "|2019-06-30 00:00:00|    351|        17|   187|                 2|           79|    3487|               19|   60|                  1|                     19|      5169|              766|          0.0|                 756|                   764|                    1|\n",
            "|2019-06-30 00:00:00|    351|        17|   187|                 2|           79|    3487|               19|   58|                  1|                     19|      5169|              638|          0.0|                 628|                   638|                    1|\n",
            "|2019-06-30 00:00:00|    351|        17|   187|                 1|           79|    3487|               19|   56|                  1|                     19|      5169|             1728|          0.0|                1714|                  1728|                    1|\n",
            "|2019-06-30 00:00:00|    351|        17|   183|                 3|           79|    3487|               19|   59|                  1|                     19|      5169|                4|          0.0|                   4|                     4|                    1|\n",
            "|2019-06-30 00:00:00|    351|        17|   183|                 3|           79|    3487|               19|   55|                  1|                     19|      5169|                4|          0.0|                   4|                     4|                    1|\n",
            "|2019-06-30 00:00:00|    351|        17|   183|                 2|           79|    3487|               19|   60|                  1|                     19|      5169|               10|          0.0|                  10|                    10|                    1|\n",
            "|2019-06-30 00:00:00|    351|        17|   183|                 2|           79|    3487|               19|   58|                  1|                     19|      5169|                8|          0.0|                   8|                     8|                    1|\n",
            "|2019-06-30 00:00:00|    351|        17|   183|                 1|           79|    3487|               19|   56|                  1|                     19|      5169|               42|          0.0|                  42|                    42|                    1|\n",
            "|2019-06-30 00:00:00|    351|        17|   176|                 1|           79|    3487|               19|   56|                  1|                     19|      5169|                4|          0.0|                   4|                     4|                    1|\n",
            "|2019-06-30 00:00:00|    351|        17|   163|                 2|           79|    3487|               19|   58|                  1|                     19|      5169|                2|          0.0|                   2|                     2|                    1|\n",
            "+-------------------+-------+----------+------+------------------+-------------+--------+-----------------+-----+-------------------+-----------------------+----------+-----------------+-------------+--------------------+----------------------+---------------------+\n",
            "only showing top 20 rows\n",
            "\n"
          ]
        }
      ]
    },
    {
      "cell_type": "code",
      "source": [
        "data.columns"
      ],
      "metadata": {
        "colab": {
          "base_uri": "https://localhost:8080/"
        },
        "id": "jfyHE2RF3ONc",
        "outputId": "5ac8ed0f-2eb3-4bd0-b10b-b48b1f38dd3b"
      },
      "execution_count": 33,
      "outputs": [
        {
          "output_type": "execute_result",
          "data": {
            "text/plain": [
              "['date',\n",
              " 'site_id',\n",
              " 'ad_type_id',\n",
              " 'geo_id',\n",
              " 'device_category_id',\n",
              " 'advertiser_id',\n",
              " 'order_id',\n",
              " 'line_item_type_id',\n",
              " 'os_id',\n",
              " 'integration_type_id',\n",
              " 'monetization_channel_id',\n",
              " 'ad_unit_id',\n",
              " 'total_impressions',\n",
              " 'total_revenue',\n",
              " 'viewable_impressions',\n",
              " 'measurable_impressions',\n",
              " 'revenue_share_percent']"
            ]
          },
          "metadata": {},
          "execution_count": 33
        }
      ]
    },
    {
      "cell_type": "code",
      "source": [
        "data.printSchema()"
      ],
      "metadata": {
        "colab": {
          "base_uri": "https://localhost:8080/"
        },
        "id": "0dH4DNeMwPOz",
        "outputId": "9d6e38da-2235-429f-a312-848818a5c79c"
      },
      "execution_count": 34,
      "outputs": [
        {
          "output_type": "stream",
          "name": "stdout",
          "text": [
            "root\n",
            " |-- date: timestamp (nullable = true)\n",
            " |-- site_id: integer (nullable = true)\n",
            " |-- ad_type_id: integer (nullable = true)\n",
            " |-- geo_id: integer (nullable = true)\n",
            " |-- device_category_id: integer (nullable = true)\n",
            " |-- advertiser_id: integer (nullable = true)\n",
            " |-- order_id: integer (nullable = true)\n",
            " |-- line_item_type_id: integer (nullable = true)\n",
            " |-- os_id: integer (nullable = true)\n",
            " |-- integration_type_id: integer (nullable = true)\n",
            " |-- monetization_channel_id: integer (nullable = true)\n",
            " |-- ad_unit_id: integer (nullable = true)\n",
            " |-- total_impressions: integer (nullable = true)\n",
            " |-- total_revenue: double (nullable = true)\n",
            " |-- viewable_impressions: integer (nullable = true)\n",
            " |-- measurable_impressions: integer (nullable = true)\n",
            " |-- revenue_share_percent: integer (nullable = true)\n",
            "\n"
          ]
        }
      ]
    },
    {
      "cell_type": "markdown",
      "source": [
        "## Aggregation 1: total impressions by Site and Ad Type"
      ],
      "metadata": {
        "id": "7qzdTKrewsC_"
      }
    },
    {
      "cell_type": "code",
      "source": [
        "# Perform transformations\n",
        "# Calculate the total impressions by Site and Ad Type\n",
        "total_impressions_df = data.groupBy( \"ad_type_id\").agg(sum(\"total_impressions\").alias(\"total_impressions_site_ad_type\"))\n",
        "total_impressions_sorted = total_impressions_df.orderBy(col(\"total_impressions_site_ad_type\").desc())\n",
        "\n",
        "# Show the results\n",
        "total_impressions_sorted.show()"
      ],
      "metadata": {
        "colab": {
          "base_uri": "https://localhost:8080/"
        },
        "id": "LQeIW2mg133S",
        "outputId": "34f6180e-af99-47e0-fac0-3d11c181d313"
      },
      "execution_count": 36,
      "outputs": [
        {
          "output_type": "stream",
          "name": "stdout",
          "text": [
            "+----------+------------------------------+\n",
            "|ad_type_id|total_impressions_site_ad_type|\n",
            "+----------+------------------------------+\n",
            "|        10|                      18555546|\n",
            "|        17|                        547226|\n",
            "+----------+------------------------------+\n",
            "\n"
          ]
        }
      ]
    },
    {
      "cell_type": "markdown",
      "source": [
        "## Aggregation 2: average revenue per advertiser"
      ],
      "metadata": {
        "id": "oCsd-dSBwwAL"
      }
    },
    {
      "cell_type": "code",
      "source": [
        "# Calculate the average revenue per advertiser\n",
        "avg_revenue_per_advertiser_df = data.groupBy(\"advertiser_id\").agg(avg(\"total_revenue\").alias(\"avg_advertiser_revenue\"))\n",
        "avg_revenue_per_advertiser_sorted = avg_revenue_per_advertiser_df.orderBy(col(\"avg_advertiser_revenue\").desc())\n",
        "# Show the results\n",
        "avg_revenue_per_advertiser_sorted.show()"
      ],
      "metadata": {
        "colab": {
          "base_uri": "https://localhost:8080/"
        },
        "id": "Kvpw-IIZ3Gho",
        "outputId": "b9d8ef96-803c-4dd6-baa3-16500429b243"
      },
      "execution_count": 8,
      "outputs": [
        {
          "output_type": "stream",
          "name": "stdout",
          "text": [
            "+-------------+----------------------+\n",
            "|advertiser_id|avg_advertiser_revenue|\n",
            "+-------------+----------------------+\n",
            "|           16|   0.23567251264755518|\n",
            "|           79|   0.12601168226530113|\n",
            "|            8|   0.11089768812747566|\n",
            "|         2634|   0.07721419056922225|\n",
            "|         2644|   0.05338987751328507|\n",
            "|           90|   0.03736113539262396|\n",
            "|           97|  0.029020448009688084|\n",
            "|           96|   0.02788300705555148|\n",
            "|           88|  0.025541126099706997|\n",
            "|          139|  0.001433385376008...|\n",
            "|           84|   5.78246902248738E-5|\n",
            "|         2638|                   0.0|\n",
            "|         2635|                   0.0|\n",
            "|         2637|                   0.0|\n",
            "|         2640|                   0.0|\n",
            "|         2646|                   0.0|\n",
            "|         2089|                   0.0|\n",
            "|         2641|                   0.0|\n",
            "|         2636|                   0.0|\n",
            "|         2642|                   0.0|\n",
            "+-------------+----------------------+\n",
            "only showing top 20 rows\n",
            "\n"
          ]
        }
      ]
    },
    {
      "cell_type": "markdown",
      "source": [
        "## Aggregation 3: Revenue Share by Monetization Channel:"
      ],
      "metadata": {
        "id": "kVFIfVfTw3o9"
      }
    },
    {
      "cell_type": "code",
      "source": [
        "data.show()"
      ],
      "metadata": {
        "colab": {
          "base_uri": "https://localhost:8080/"
        },
        "id": "oecGLzDy57FU",
        "outputId": "5e617881-b457-4075-db41-254baa447307"
      },
      "execution_count": 38,
      "outputs": [
        {
          "output_type": "stream",
          "name": "stdout",
          "text": [
            "+-------------------+-------+----------+------+------------------+-------------+--------+-----------------+-----+-------------------+-----------------------+----------+-----------------+-------------+--------------------+----------------------+---------------------+\n",
            "|               date|site_id|ad_type_id|geo_id|device_category_id|advertiser_id|order_id|line_item_type_id|os_id|integration_type_id|monetization_channel_id|ad_unit_id|total_impressions|total_revenue|viewable_impressions|measurable_impressions|revenue_share_percent|\n",
            "+-------------------+-------+----------+------+------------------+-------------+--------+-----------------+-----+-------------------+-----------------------+----------+-----------------+-------------+--------------------+----------------------+---------------------+\n",
            "|2019-06-30 00:00:00|    351|        10|   187|                 2|           84|    3473|               19|   60|                  1|                      4|      5174|               16|          0.0|                   2|                    16|                    1|\n",
            "|2019-06-30 00:00:00|    351|        10|   187|                 2|           84|    3473|               19|   58|                  1|                      4|      5174|                6|          0.0|                   0|                     6|                    1|\n",
            "|2019-06-30 00:00:00|    351|        10|   147|                 2|           84|    3473|               19|   60|                  1|                      4|      5174|                4|          0.0|                   0|                     4|                    1|\n",
            "|2019-06-30 00:00:00|    351|        10|   147|                 2|           84|    3473|               19|   58|                  1|                      4|      5174|                4|          0.0|                   0|                     4|                    1|\n",
            "|2019-06-30 00:00:00|    348|        10|   147|                 3|           79|    3463|               20|   59|                  1|                     19|      5138|                4|          0.0|                   0|                     4|                    1|\n",
            "|2019-06-30 00:00:00|    348|        10|   147|                 3|           79|    3463|               20|   59|                  1|                     19|      5144|                2|          0.0|                   0|                     2|                    1|\n",
            "|2019-06-30 00:00:00|    351|        17|   191|                 1|           79|    3487|               19|   56|                  1|                     19|      5169|                2|          0.0|                   2|                     2|                    1|\n",
            "|2019-06-30 00:00:00|    351|        17|   187|                 5|           79|    3487|               19|   56|                  1|                     19|      5169|                2|          0.0|                   2|                     2|                    1|\n",
            "|2019-06-30 00:00:00|    351|        17|   187|                 3|           79|    3487|               19|   59|                  1|                     19|      5169|               80|          0.0|                  80|                    80|                    1|\n",
            "|2019-06-30 00:00:00|    351|        17|   187|                 3|           79|    3487|               19|   55|                  1|                     19|      5169|               92|          0.0|                  92|                    92|                    1|\n",
            "|2019-06-30 00:00:00|    351|        17|   187|                 2|           79|    3487|               19|   60|                  1|                     19|      5169|              766|          0.0|                 756|                   764|                    1|\n",
            "|2019-06-30 00:00:00|    351|        17|   187|                 2|           79|    3487|               19|   58|                  1|                     19|      5169|              638|          0.0|                 628|                   638|                    1|\n",
            "|2019-06-30 00:00:00|    351|        17|   187|                 1|           79|    3487|               19|   56|                  1|                     19|      5169|             1728|          0.0|                1714|                  1728|                    1|\n",
            "|2019-06-30 00:00:00|    351|        17|   183|                 3|           79|    3487|               19|   59|                  1|                     19|      5169|                4|          0.0|                   4|                     4|                    1|\n",
            "|2019-06-30 00:00:00|    351|        17|   183|                 3|           79|    3487|               19|   55|                  1|                     19|      5169|                4|          0.0|                   4|                     4|                    1|\n",
            "|2019-06-30 00:00:00|    351|        17|   183|                 2|           79|    3487|               19|   60|                  1|                     19|      5169|               10|          0.0|                  10|                    10|                    1|\n",
            "|2019-06-30 00:00:00|    351|        17|   183|                 2|           79|    3487|               19|   58|                  1|                     19|      5169|                8|          0.0|                   8|                     8|                    1|\n",
            "|2019-06-30 00:00:00|    351|        17|   183|                 1|           79|    3487|               19|   56|                  1|                     19|      5169|               42|          0.0|                  42|                    42|                    1|\n",
            "|2019-06-30 00:00:00|    351|        17|   176|                 1|           79|    3487|               19|   56|                  1|                     19|      5169|                4|          0.0|                   4|                     4|                    1|\n",
            "|2019-06-30 00:00:00|    351|        17|   163|                 2|           79|    3487|               19|   58|                  1|                     19|      5169|                2|          0.0|                   2|                     2|                    1|\n",
            "+-------------------+-------+----------+------+------------------+-------------+--------+-----------------+-----+-------------------+-----------------------+----------+-----------------+-------------+--------------------+----------------------+---------------------+\n",
            "only showing top 20 rows\n",
            "\n"
          ]
        }
      ]
    },
    {
      "cell_type": "code",
      "source": [
        "# Calculate Revenue Share by Monetization Channel:\n",
        "monetization_channel_revenue_share_df = data.groupBy(\"monetization_channel_id\").agg(sum(\"revenue_share_percent\").alias(\"monetization_channel_revenue_share\"))\n",
        "monetization_channel_revenue_share_sorted = monetization_channel_revenue_share_df.orderBy(col(\"monetization_channel_revenue_share\").desc())\n",
        "# Show the revenue share result\n",
        "monetization_channel_revenue_share_sorted.show()"
      ],
      "metadata": {
        "colab": {
          "base_uri": "https://localhost:8080/"
        },
        "id": "ig4ptr5L6UL_",
        "outputId": "82cbcb99-ab84-41ef-adc8-780948c47610"
      },
      "execution_count": 9,
      "outputs": [
        {
          "output_type": "stream",
          "name": "stdout",
          "text": [
            "+-----------------------+----------------------------------+\n",
            "|monetization_channel_id|monetization_channel_revenue_share|\n",
            "+-----------------------+----------------------------------+\n",
            "|                     19|                            396072|\n",
            "|                      4|                            133282|\n",
            "|                      1|                             28466|\n",
            "|                      2|                              5144|\n",
            "|                     21|                              4327|\n",
            "+-----------------------+----------------------------------+\n",
            "\n"
          ]
        }
      ]
    },
    {
      "cell_type": "code",
      "source": [
        "import matplotlib.pyplot as plt\n",
        "\n",
        "# Convert total_impressions DataFrame to Pandas for visualization\n",
        "total_impressions_pd = total_impressions_sorted.toPandas()\n",
        "\n",
        "# Plot total impressions by Site and Ad Type\n",
        "plt.figure(figsize=(10, 6))\n",
        "plt.bar(total_impressions_pd['site_id'].astype(str) + \"-\" + total_impressions_pd['ad_type_id'].astype(str),\n",
        "        total_impressions_pd['total_impressions_site_ad_type'])\n",
        "plt.xlabel(\"Site ID - Ad Type ID\")\n",
        "plt.ylabel(\"Total Impressions\")\n",
        "plt.title(\"Total Impressions by Site and Ad Type\")\n",
        "plt.xticks(rotation=90)\n",
        "plt.tight_layout()\n",
        "plt.show()\n"
      ],
      "metadata": {
        "colab": {
          "base_uri": "https://localhost:8080/",
          "height": 607
        },
        "id": "IuzpEER28JC1",
        "outputId": "4b01eb73-b3a5-4922-ae09-4ee56f3a1c49"
      },
      "execution_count": 10,
      "outputs": [
        {
          "output_type": "display_data",
          "data": {
            "text/plain": [
              "<Figure size 1000x600 with 1 Axes>"
            ],
            "image/png": "[encoded data removed]"
          },
          "metadata": {}
        }
      ]
    },
    {
      "cell_type": "markdown",
      "source": [
        "## Time series analysis"
      ],
      "metadata": {
        "id": "iEc-Bo7EC7a4"
      }
    },
    {
      "cell_type": "code",
      "source": [
        "import pandas as pd\n",
        "import matplotlib.pyplot as plt\n",
        "import numpy as np\n",
        "\n",
        "def perform_time_series_analysis(data_file_path):\n",
        "    # Read the CSV file into a Pandas DataFrame\n",
        "    data = pd.read_csv(data_file_path)\n",
        "\n",
        "    # Convert the date column to a proper date type\n",
        "    data['date'] = pd.to_datetime(data['date'], format='%Y-%m-%d')\n",
        "\n",
        "    # Group by date and sum the chosen metric (impressions) over daily intervals\n",
        "    daily_impressions_df = data.groupby('date')['total_impressions'].sum().reset_index()\n",
        "\n",
        "    # Calculate daily changes in impressions\n",
        "    daily_impressions_df['impressions_change'] = daily_impressions_df['total_impressions'].diff().fillna(0)\n",
        "\n",
        "    # Show the result\n",
        "    print(\"Time Series Analysis Result:\")\n",
        "    print(daily_impressions_df)\n",
        "\n",
        "    # Visualize the time series data\n",
        "    plt.figure(figsize=(12, 6))\n",
        "    plt.plot(daily_impressions_df['date'], daily_impressions_df['impressions_change'], marker='o', linestyle='-', color='b')\n",
        "    plt.xlabel(\"Date\")\n",
        "    plt.ylabel(\"Impressions Change\")\n",
        "    plt.title(\"Daily Impressions Change Over Time\")\n",
        "    # Customize the x-axis ticks to display every 7 days\n",
        "    x_ticks = np.arange(daily_impressions_df['date'].min(), daily_impressions_df['date'].max(), pd.Timedelta(days=7))\n",
        "    plt.xticks(x_ticks, rotation=45)\n",
        "    plt.xticks(rotation=45)\n",
        "    plt.grid(True)\n",
        "    plt.tight_layout()\n",
        "    plt.show()\n",
        "\n",
        "\n",
        "data_file_path = '/content/drive/MyDrive/Colab/Magnite/Dataset.csv'\n",
        "perform_time_series_analysis(data_file_path)\n"
      ],
      "metadata": {
        "colab": {
          "base_uri": "https://localhost:8080/",
          "height": 1000
        },
        "id": "PF3y4y9eB-7v",
        "outputId": "13aedf0d-3205-4007-b912-e7946af407d3"
      },
      "execution_count": 11,
      "outputs": [
        {
          "output_type": "stream",
          "name": "stdout",
          "text": [
            "Time Series Analysis Result:\n",
            "         date  total_impressions  impressions_change\n",
            "0  2019-06-01             486756                 0.0\n",
            "1  2019-06-02             636942            150186.0\n",
            "2  2019-06-03             712014             75072.0\n",
            "3  2019-06-04             581034           -130980.0\n",
            "4  2019-06-05             527132            -53902.0\n",
            "5  2019-06-06             730188            203056.0\n",
            "6  2019-06-07             625676           -104512.0\n",
            "7  2019-06-08             502832           -122844.0\n",
            "8  2019-06-09             684146            181314.0\n",
            "9  2019-06-10             724370             40224.0\n",
            "10 2019-06-11             569628           -154742.0\n",
            "11 2019-06-12             470680            -98948.0\n",
            "12 2019-06-13             833022            362342.0\n",
            "13 2019-06-14             677686           -155336.0\n",
            "14 2019-06-15             497594           -180092.0\n",
            "15 2019-06-16             653302            155708.0\n",
            "16 2019-06-17             808914            155612.0\n",
            "17 2019-06-18             622966           -185948.0\n",
            "18 2019-06-19             548096            -74870.0\n",
            "19 2019-06-20             830122            282026.0\n",
            "20 2019-06-21             735234            -94888.0\n",
            "21 2019-06-22             530834           -204400.0\n",
            "22 2019-06-23             699762            168928.0\n",
            "23 2019-06-24             868456            168694.0\n",
            "24 2019-06-25             603788           -264668.0\n",
            "25 2019-06-26             459094           -144694.0\n",
            "26 2019-06-27             730416            271322.0\n",
            "27 2019-06-28             605188           -125228.0\n",
            "28 2019-06-29             485656           -119532.0\n",
            "29 2019-06-30             661244            175588.0\n"
          ]
        },
        {
          "output_type": "display_data",
          "data": {
            "text/plain": [
              "<Figure size 1200x600 with 1 Axes>"
            ],
            "image/png": "[encoded data removed]"
          },
          "metadata": {}
        }
      ]
    },
    {
      "cell_type": "code",
      "source": [],
      "metadata": {
        "id": "Vyq4-lujEfwT"
      },
      "execution_count": 12,
      "outputs": []
    }
  ]
}